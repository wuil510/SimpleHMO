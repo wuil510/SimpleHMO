{
  "nbformat": 4,
  "nbformat_minor": 0,
  "metadata": {
    "colab": {
      "provenance": [],
      "include_colab_link": true
    },
    "kernelspec": {
      "name": "python3",
      "display_name": "Python 3"
    },
    "language_info": {
      "name": "python"
    }
  },
  "cells": [
    {
      "cell_type": "markdown",
      "metadata": {
        "id": "view-in-github",
        "colab_type": "text"
      },
      "source": [
        "<a href=\"https://colab.research.google.com/github/yilinearity/SimpleHMO/blob/main/HMO_Calculation_v1_3_GColab.ipynb\" target=\"_parent\"><img src=\"https://colab.research.google.com/assets/colab-badge.svg\" alt=\"Open In Colab\"/></a>"
      ]
    },
    {
      "cell_type": "markdown",
      "source": [
        "# **Solving Simple Huckel Systems**\n",
        "\n",
        "This script is formally suitable for **pi-conjugated hydrocarbon** only. However, by replacing the **Hii (Coulomb integrals)** and **Hij (resonance integrals)** in the Huckel matrix with suitable values, heteoatom-containing systems can also be considered. Examples are given below in Step 2-1 or Step 2-2.\n",
        "\n",
        "For the **Hii** and **Hij** values for heteroatoms: see F. A. Van-Catledge, *J. Org. Chem.*, **1980**, *45*, 4801–4802; or W. P. Purcell, J. A. Singer, *J. Chem. Eng. Data*, **1967**, *12*, 235–246.\n",
        "\n",
        "The orbital energy (eigen energies) and orbital coefficients (eigen vectors) are calculated.\n",
        "\n",
        "<font color='blue'>Click on the **run** icon (on the left side of the code) to run each cell.</font>\n",
        "\n",
        "## Step 1\n",
        "\n",
        "The cell below generates the Huckel matrix from the SMILES string using RDKit's `rdmolops.GetAdjacencyMatrix` module. Make sure that the RDKit has been installed (run the first cell below). The SMILES can be, for instance, obtained from ChemDraw or Wikipedia.\n",
        "\n",
        "This step can be skipped if you want to generate the Huckel matrix from scratch.\n",
        "\n",
        "- The output Matrix 1 has <font color='red'>**Hii = 0**</font> and <font color='red'>**Hij = 1**</font> . Use this matrix in Step 2-1.\n",
        "- The output Matrix 2 has <font color='red'>**Hii = a (alpha)**</font>  and <font color='red'>**Hij = b (beta)**</font>. Use this matrix in Step 2-2.\n",
        "\n",
        "<br>\n",
        "\n",
        "---\n",
        "MIT License Copyright (c) 2023 Yi-Lin Wu (yilinearity@gmail.com) <br>\n",
        "Full text of the MIT License can be found at: https://opensource.org/licenses/MIT"
      ],
      "metadata": {
        "id": "p7hm-ZWi3LLV"
      }
    },
    {
      "cell_type": "code",
      "source": [
        "# Only run this cell ONCE at the begining of use\n",
        "!pip install rdkit"
      ],
      "metadata": {
        "id": "czz6cIA5Ke2Q"
      },
      "execution_count": null,
      "outputs": []
    },
    {
      "cell_type": "code",
      "execution_count": null,
      "metadata": {
        "id": "QrDyZdD7rbkm"
      },
      "outputs": [],
      "source": [
        "from rdkit import Chem\n",
        "from rdkit.Chem import rdmolops\n",
        "\n",
        "# Define a function to generate the adjacency matrix from a SMILES string\n",
        "def smiles_to_adjacency_matrix(smiles):\n",
        "    \"\"\"\n",
        "    Converts a SMILES string to an adjacency matrix using RDKit.\n",
        "\n",
        "    Args:\n",
        "        smiles: The SMILES string of the molecule.\n",
        "\n",
        "    Returns:\n",
        "        AC_str: The adjacency matrix as a formatted string.\n",
        "        AC_modified_str: The modified adjacency matrix as a formatted string.\n",
        "    \"\"\"\n",
        "    try:\n",
        "        mol = Chem.MolFromSmiles(smiles)\n",
        "        AC = rdmolops.GetAdjacencyMatrix(mol)\n",
        "        num_atoms = len(AC)\n",
        "\n",
        "        # Modify the adjacency matrix\n",
        "        AC_modified = []\n",
        "        for i in range(num_atoms):\n",
        "            row = []\n",
        "            for j in range(num_atoms):\n",
        "                if i == j:\n",
        "                    row.append(\"a\")\n",
        "                elif AC[i, j] == 1:\n",
        "                    row.append(\"b\")\n",
        "                else:\n",
        "                    row.append(\"0\")\n",
        "            AC_modified.append(row)\n",
        "\n",
        "        AC_str = \"[\\n\" + \"\\n\".join([\"  [\" + \", \".join(map(str, row)) + \"],\" for row in AC]) + \"\\n]\"\n",
        "        AC_modified_str = \"[\\n\" + \"\\n\".join([\"  [\" + \", \".join(row) + \"],\" for row in AC_modified]) + \"\\n]\"\n",
        "        return AC_str, AC_modified_str\n",
        "    except Exception as e:\n",
        "        print(f\"Error converting SMILES to adjacency matrix: {e}\")\n",
        "        return None, None\n",
        "\n",
        "# SMILES string\n",
        "smiles = \"c1ccccc1\"\n",
        "\n",
        "# Convert SMILES to adjacency matrix\n",
        "adjacency_matrix, modified_adjacency_matrix = smiles_to_adjacency_matrix(smiles)\n",
        "\n",
        "if adjacency_matrix is not None:\n",
        "    print(\"Matrix 1:\")\n",
        "    print(adjacency_matrix)\n",
        "\n",
        "    print(\"\\nMatrix 2:\")\n",
        "    print(modified_adjacency_matrix)\n",
        "else:\n",
        "    print(\"Conversion failed.\")\n"
      ]
    },
    {
      "cell_type": "markdown",
      "source": [
        "## Step 2-1\n",
        "\n",
        "Replace H matrix below by **Matrix 1** from Step 1. Make sure it is enclosed in `np.array()`"
      ],
      "metadata": {
        "id": "8bqnf3czKDXZ"
      }
    },
    {
      "cell_type": "code",
      "source": [
        "import numpy as np\n",
        "\n",
        "# Define the Huckel matrix\n",
        "\n",
        "## Examples\n",
        "## 1,3-Butadiene, Huckel MO energies: -1.62, -0.62, 0.62, 1.62\n",
        "# H = np.array([[0, 1, 0, 0],[1, 0, 1, 0],[0, 1, 0, 1],[0, 0, 1, 0]])\n",
        "## Cyclobutadiene, Huckel MO energies: -2.00, -0.00, 0.00, 2.00\n",
        "# H = np.array([[0, 1, 0, 1], [1, 0, 1, 0], [0, 1, 0, 1], [1, 0, 1, 0]])\n",
        "## Benzene, Huckel MO energies: -2.00, -1.00, -1.00, 1.00, 1.00, 2.00\n",
        "# H = np.array([[0, 1, 0, 0, 0, 1], [1, 0, 1, 0, 0, 0], [0, 1, 0, 1, 0, 0], [0, 0, 1, 0, 1, 0], [0, 0, 0, 1, 0, 1], [1, 0, 0, 0, 1, 0]])\n",
        "## Ethene, Huckel MO energies: -1.00, 1.00\n",
        "# H = np.array([[0, 1], [1, 0]])\n",
        "## Formaldehyde, Huckel model energies: -0.68, 1.65\n",
        "# H = np.array([[0, 1.06], [1.06, 0.97]])\n",
        "## Thioformaldehyde, Huckel model energies: -0.61, 1.07\n",
        "# H = np.array([[0, 0.81], [0.81, 0.46]])\n",
        "## Formic acid, Huckel model energies: -0.79, 1.48, 2.37\n",
        "# H = np.array([[0, 1.06,  0.66], [1.06, 0.97, 0], [0.66, 0, 2.09]])\n",
        "## Thioformic acid (thio form), Huckel model energies: -0.86, 1.07, 1.87\n",
        "# H = np.array([[0, 1.06,  0.69], [1.06, 0.97, 0], [0.69, 0, 1.11]])\n",
        "\n",
        "H = np.array([\n",
        " [0, 1, 0, 0, 0, 1],\n",
        " [1, 0, 1, 0, 0, 0],\n",
        " [0, 1, 0, 1, 0, 0],\n",
        " [0, 0, 1, 0, 1, 0],\n",
        " [0, 0, 0, 1, 0, 1],\n",
        " [1, 0, 0, 0, 1, 0],\n",
        "])\n",
        "\n",
        "# Validate the matrix for symmetry\n",
        "if not np.allclose(H, H.T, atol=0.0001):\n",
        "    raise ValueError(\"Input matrix must be symmetric.\")\n",
        "\n",
        "# Calculate eigenvalues and eigenvectors\n",
        "energies, vectors = np.linalg.eigh(H)\n",
        "energies = np.around(energies, decimals=3)\n",
        "eigen_vectors = list(vectors.T)\n",
        "energy_eigens = {}\n",
        "\n",
        "# Print all energies\n",
        "print(\"Huckel MO energies:\", \", \".join([f\"{energy:.2f}\" for energy in energies]))\n",
        "print(\"\\n\")\n",
        "\n",
        "for e, vec in zip(energies, eigen_vectors):\n",
        "    vectors = energy_eigens.get(e, [])\n",
        "    vectors.append(vec)\n",
        "    energy_eigens[e] = vectors\n",
        "\n",
        "# Print the individual orbital energies and coefficients\n",
        "for energy, eigen_vectors in energy_eigens.items():\n",
        "    print(f\"Energy Level: {energy:.2f}\")\n",
        "    for i, coefficients in enumerate(eigen_vectors):\n",
        "        print(f\"Normalized orbital coefficients: {', '.join([f'{c:.2f}' for c in coefficients])}\")"
      ],
      "metadata": {
        "id": "5l2YJoQ4KHlm"
      },
      "execution_count": null,
      "outputs": []
    },
    {
      "cell_type": "markdown",
      "source": [
        "## Step 2-2\n",
        "\n",
        "Replace H matrix below by **Matrix 2** from Step 1. Make sure it is enclosed in `sp.Matrix()`"
      ],
      "metadata": {
        "id": "MWFWfW1ZKO41"
      }
    },
    {
      "cell_type": "code",
      "source": [
        "import sympy as sp\n",
        "\n",
        "# Define symbolic variables\n",
        "a, b = sp.symbols('a b')\n",
        "\n",
        "# Define the Huckel matrix\n",
        "\n",
        "## Examples\n",
        "## 1,3-Butadiene, Huckel MO energies: a - sqrt(5)*b/2 - b/2, a - sqrt(5)*b/2 + b/2, a - b/2 + sqrt(5)*b/2, a + b/2 + sqrt(5)*b/2\n",
        "# H = sp.Matrix([[a, b, 0, 0], [b, a, b, 0], [0, b, a, b], [0, 0, b, a]])\n",
        "## Cyclobutadiene, Huckel MO energies: a - 2*b, a, a, a + 2*b\n",
        "# H = sp.Matrix([[a, b, 0, b], [b, a, b, 0], [0, b, a, b], [b, 0, b, a]])\n",
        "## Benzene, Huckel MO energies: a - 2*b, a - b, a - b, a + b, a + b, a + 2*b\n",
        "# H = sp.Matrix([[a, b, 0, 0, 0, b], [b, a, b, 0, 0, 0], [0, b, a, b, 0, 0], [0, 0, b, a, b, 0], [0, 0, 0, b, a, b], [b, 0, 0, 0, b, a]])\n",
        "## Ethene, Huckel MO energies: a - b, a + b\n",
        "# H = sp.Matrix([[a, b],[b, a]])\n",
        "## Formaldehyde, Huckel model energies: a-0.68b, a+1.65b\n",
        "# H = sp.Matrix([[a, 1.06*b],[1.06*b, a+0.97*b]])\n",
        "## Thioformaldehyde, Huckel model energies: a-0.61b, a+1.07b\n",
        "# H = sp.Matrix([[a, 0.81*b], [0.81*b, a+0.46*b]])\n",
        "## Formic acid, Huckel model energies: complicated expression\n",
        "# H = sp.Matrix([[a, 1.06*b,  0.66*b], [1.06*b, a+0.97*b, 0], [0.66*b, 0, a+2.09*b]])\n",
        "## Thioformic acid (thio form), Huckel model energies: complicated expression\n",
        "# H = sp.Matrix([[a, 1.06*b,  0.69*b], [1.06*b, a+0.97*b, 0], [0.69*b, 0, a+1.11*b]])\n",
        "\n",
        "H = sp.Matrix([\n",
        " [a, b, 0, 0, 0, b],\n",
        " [b, a, b, 0, 0, 0],\n",
        " [0, b, a, b, 0, 0],\n",
        " [0, 0, b, a, b, 0],\n",
        " [0, 0, 0, b, a, b],\n",
        " [b, 0, 0, 0, b, a],\n",
        "])\n",
        "\n",
        "# Calculate eigenvalues and eigenvectors symbolically\n",
        "eigenvalues = H.eigenvals()\n",
        "eigenvectors = H.eigenvects()\n",
        "\n",
        "# Create a dictionary to count eigenvalue occurrences\n",
        "eigenvalue_counts = {val: mult for val, mult in eigenvalues.items()}\n",
        "\n",
        "# Sort eigenvalues by their expressions as symbolic expressions\n",
        "sorted_eigenvalues = sorted(eigenvalues.keys(), key=lambda x: x.subs({a: 0, b: 1}), reverse=False)\n",
        "\n",
        "# Step 1: Print all eigenvalues with degeneracy\n",
        "print(\"Huckel MO energies:\")\n",
        "output = []\n",
        "for eigenvalue in sorted_eigenvalues:\n",
        "    degeneracy = eigenvalue_counts[eigenvalue]\n",
        "    output.extend([str(eigenvalue)] * degeneracy)\n",
        "print(', '.join(output))\n",
        "print()\n",
        "\n",
        "# Step 2: Normalize and print eigenvectors for each energy level\n",
        "for eigenvalue in sorted_eigenvalues:\n",
        "    degeneracy = eigenvalue_counts[eigenvalue]\n",
        "    print(\"\\nEnergy Level:\", eigenvalue)\n",
        "    eigenvectors_for_eigenvalue = [evect for val, mult, evect in eigenvectors if val == eigenvalue]\n",
        "    for i, eigenvector in enumerate(eigenvectors_for_eigenvalue):\n",
        "        normalized_eigenvectors = []\n",
        "        for ev in eigenvector:\n",
        "            normalized_eigenvector = ev / ev.norm()\n",
        "            print(\"Normalized orbital coefficients:\", end=' ')\n",
        "            for component in normalized_eigenvector:\n",
        "                print(component, end=' ')\n",
        "            print()\n"
      ],
      "metadata": {
        "id": "uAIX7y4LKP3V"
      },
      "execution_count": null,
      "outputs": []
    }
  ]
}